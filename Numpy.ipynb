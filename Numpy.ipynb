{
  "cells": [
    {
      "cell_type": "code",
      "execution_count": null,
      "metadata": {
        "id": "Mqvb9c7rNoDe"
      },
      "outputs": [],
      "source": [
        "import numpy as np\n",
        "import pandas as pd"
      ]
    },
    {
      "cell_type": "code",
      "execution_count": null,
      "metadata": {
        "colab": {
          "base_uri": "https://localhost:8080/"
        },
        "id": "cnTE7B_6Tc2a",
        "outputId": "46934070-7a9e-4473-c751-3145348cf6e6"
      },
      "outputs": [
        {
          "output_type": "stream",
          "name": "stdout",
          "text": [
            "int64\n"
          ]
        }
      ],
      "source": [
        "# Create a NumPy array 'arr' of integers from 0 to 5 and print its data type.\n",
        "arr = np.array([0, 1, 2, 3, 4, 5])\n",
        "print(arr.dtype)\n",
        "\n",
        "\n"
      ]
    },
    {
      "cell_type": "code",
      "execution_count": null,
      "metadata": {
        "colab": {
          "base_uri": "https://localhost:8080/"
        },
        "id": "C6wiXARYTdTT",
        "outputId": "0e4c4d40-3100-4b75-a835-0f6d310bfa14"
      },
      "outputs": [
        {
          "name": "stdout",
          "output_type": "stream",
          "text": [
            "Is arr_float of type float64? True\n"
          ]
        }
      ],
      "source": [
        "#2. Given a NumPy array 'arr', check if its data type is float64.\n",
        "\n",
        "arr_float = np.array([1.5, 2.6, 3.7])\n",
        "is_float64 = arr_float.dtype == np.float64\n",
        "print(\"Is arr_float of type float64?\", is_float64)\n"
      ]
    },
    {
      "cell_type": "code",
      "execution_count": null,
      "metadata": {
        "colab": {
          "base_uri": "https://localhost:8080/"
        },
        "id": "PgunbFQxTkob",
        "outputId": "27c853b7-c387-4e5a-9e74-bc20414b68e0"
      },
      "outputs": [
        {
          "name": "stdout",
          "output_type": "stream",
          "text": [
            "Complex array: [1.+2.j 3.+4.j 5.+6.j]\n"
          ]
        }
      ],
      "source": [
        "# Create a NumPy array 'arr' with a data type of complex128 containing three complex numbers.\n",
        "\n",
        "arr_complex = np.array([1+2j, 3+4j, 5+6j], dtype=np.complex128)\n",
        "print(\"Complex array:\", arr_complex)\n"
      ]
    },
    {
      "cell_type": "code",
      "execution_count": null,
      "metadata": {
        "colab": {
          "base_uri": "https://localhost:8080/"
        },
        "id": "_JRuFJSXTmXs",
        "outputId": "4849e383-689d-400c-ae3c-45146bdfaeee"
      },
      "outputs": [
        {
          "name": "stdout",
          "output_type": "stream",
          "text": [
            "Converted to float32: [1. 2. 3. 4. 5.]\n"
          ]
        }
      ],
      "source": [
        "# Convert an existing NumPy array 'arr' of integers to float32 data type\n",
        "\n",
        "arr_int = np.array([1, 2, 3, 4, 5])\n",
        "arr_float32 = arr_int.astype(np.float32)\n",
        "print(\"Converted to float32:\", arr_float32)\n"
      ]
    },
    {
      "cell_type": "code",
      "execution_count": null,
      "metadata": {
        "colab": {
          "background_save": true,
          "base_uri": "https://localhost:8080/"
        },
        "id": "cjeqz_zlToN9",
        "outputId": "4b59f709-3310-4466-e456-172baea2118f"
      },
      "outputs": [
        {
          "name": "stdout",
          "output_type": "stream",
          "text": [
            "Converted float64 to float32: [1.1       2.2555556 3.3      ]\n"
          ]
        }
      ],
      "source": [
        "# Given a NumPy array 'arr' with float64 data type, convert it to float32 to reduce decimal precision\n",
        "\n",
        "arr_float64 = np.array([1.1, 2.2555555557777777777, 3.3], dtype=np.float64)\n",
        "arr_float32_converted = arr_float64.astype(np.float32)\n",
        "print(\"Converted float64 to float32:\", arr_float32_converted)\n"
      ]
    },
    {
      "cell_type": "code",
      "execution_count": null,
      "metadata": {
        "colab": {
          "base_uri": "https://localhost:8080/"
        },
        "id": "eu0G34crTrGR",
        "outputId": "1a92d5e0-2486-461d-9139-33880e0d6bb0"
      },
      "outputs": [
        {
          "name": "stdout",
          "output_type": "stream",
          "text": [
            "Array attributes (shape, size, dtype): ((3,), 3, dtype('float64'))\n"
          ]
        }
      ],
      "source": [
        "# Write a function array_attributes that takes a NumPy array as input and returns its shape, size, and data type.\n",
        "arr_float = np.array([1.5, 2.6, 3.7])\n",
        "def array_attributes(arr):\n",
        "    return arr.shape, arr.size, arr.dtype\n",
        "\n",
        "attributes = array_attributes(arr_float)\n",
        "print(\"Array attributes (shape, size, dtype):\", attributes)\n"
      ]
    },
    {
      "cell_type": "code",
      "execution_count": null,
      "metadata": {
        "colab": {
          "base_uri": "https://localhost:8080/"
        },
        "id": "f5_bVblNTuua",
        "outputId": "b5b3e3f4-7e82-405c-b0e5-adf09f20f632"
      },
      "outputs": [
        {
          "name": "stdout",
          "output_type": "stream",
          "text": [
            "Array dimensionality: 1\n"
          ]
        }
      ],
      "source": [
        "# Create a function array_dimension that takes a NumPy array as input and returns its dimensionality.\n",
        "\n",
        "arr_float = np.array([1.5, 2.6, 3.7])\n",
        "def array_dimension(arr):\n",
        "    return arr.ndim\n",
        "\n",
        "dimension = array_dimension(arr_float)\n",
        "print(\"Array dimensionality:\", dimension)\n"
      ]
    },
    {
      "cell_type": "code",
      "execution_count": null,
      "metadata": {
        "colab": {
          "base_uri": "https://localhost:8080/"
        },
        "id": "kC7zzoPdTx6d",
        "outputId": "7612a6cd-4863-4a6e-cdad-d015d922050a"
      },
      "outputs": [
        {
          "name": "stdout",
          "output_type": "stream",
          "text": [
            "Item size and total size in bytes: (8, 24)\n"
          ]
        }
      ],
      "source": [
        "# Design a function item_size_info that takes a NumPy array as input and returns the item size and the total size in bytes.\n",
        "\n",
        "arr_float = np.array([1.5, 2.6, 3.7])\n",
        "def item_size_info(arr):\n",
        "    return arr.itemsize, arr.nbytes\n",
        "\n",
        "size_info = item_size_info(arr_float)\n",
        "print(\"Item size and total size in bytes:\", size_info)\n"
      ]
    },
    {
      "cell_type": "code",
      "execution_count": null,
      "metadata": {
        "colab": {
          "base_uri": "https://localhost:8080/"
        },
        "id": "PIqrDFtuT0qb",
        "outputId": "06e8f58b-a8eb-430c-a99b-0431710efd23"
      },
      "outputs": [
        {
          "name": "stdout",
          "output_type": "stream",
          "text": [
            "Array strides: (8,)\n"
          ]
        }
      ],
      "source": [
        "# Create a function array_strides that takes a NumPy array as input and returns the strides of the array\n",
        "\n",
        "arr_float = np.array([1.5, 2.6, 3.7])\n",
        "def array_strides(arr):\n",
        "    return arr.strides\n",
        "\n",
        "strides = array_strides(arr_float)\n",
        "print(\"Array strides:\", strides)"
      ]
    },
    {
      "cell_type": "code",
      "execution_count": null,
      "metadata": {
        "colab": {
          "base_uri": "https://localhost:8080/"
        },
        "id": "7dOAPZtVUWyK",
        "outputId": "25f32351-b67f-4f06-8c10-2bc492fce9de"
      },
      "outputs": [
        {
          "name": "stdout",
          "output_type": "stream",
          "text": [
            "Shape and strides: ((3,), (8,))\n"
          ]
        }
      ],
      "source": [
        "# Design a function shape_stride_relationship that takes a NumPy array as input and returns the shape and strides of the array.\n",
        "\n",
        "arr_float = np.array([1.5, 2.6, 3.7])\n",
        "def shape_stride_relationship(arr):\n",
        "    return arr.shape, arr.strides\n",
        "\n",
        "shape_stride = shape_stride_relationship(arr_float)\n",
        "print(\"Shape and strides:\", shape_stride)"
      ]
    },
    {
      "cell_type": "code",
      "execution_count": null,
      "metadata": {
        "colab": {
          "base_uri": "https://localhost:8080/"
        },
        "id": "cNNr-IdSVI_l",
        "outputId": "b26ac0a4-180a-4233-bc62-bcf64cbfc585"
      },
      "outputs": [
        {
          "name": "stdout",
          "output_type": "stream",
          "text": [
            "Zeros array: [0. 0. 0. 0. 0.]\n"
          ]
        }
      ],
      "source": [
        "#Create a function `create_zeros_array` that takes an integer `n` as input and returns a NumPy array of zeros with `n` elements.\n",
        "\n",
        "def create_zeros_array(n):\n",
        "    return np.zeros(n)\n",
        "\n",
        "zeros_array = create_zeros_array(5)\n",
        "print(\"Zeros array:\", zeros_array)\n"
      ]
    },
    {
      "cell_type": "code",
      "execution_count": null,
      "metadata": {
        "colab": {
          "base_uri": "https://localhost:8080/"
        },
        "id": "Nt8qPwIUVJYt",
        "outputId": "c9eca797-1215-4555-fb9e-1f1e93eec2a4"
      },
      "outputs": [
        {
          "name": "stdout",
          "output_type": "stream",
          "text": [
            "Ones matrix:\n",
            " [[1. 1. 1. 1.]\n",
            " [1. 1. 1. 1.]\n",
            " [1. 1. 1. 1.]]\n"
          ]
        }
      ],
      "source": [
        "#Write a function `create_ones_matrix` that takes integers `rows` and `cols` as inputs and generates a 2D NumPy array filled with ones of size `rows x cols`.\n",
        "\n",
        "def create_ones_matrix(rows, cols):\n",
        "    return np.ones((rows, cols))\n",
        "\n",
        "ones_matrix = create_ones_matrix(3, 4)\n",
        "print(\"Ones matrix:\\n\", ones_matrix)\n"
      ]
    },
    {
      "cell_type": "code",
      "execution_count": null,
      "metadata": {
        "colab": {
          "base_uri": "https://localhost:8080/"
        },
        "id": "YXFc-8x6VMNR",
        "outputId": "7f4395ba-6345-4257-a95a-50de21a7f2ed"
      },
      "outputs": [
        {
          "name": "stdout",
          "output_type": "stream",
          "text": [
            "Range array: [0 2 4 6 8]\n"
          ]
        }
      ],
      "source": [
        "# Write a function `generate_range_array` that takes three integers start, stop, and step as arguments and creates a NumPy array with a range starting from `start`, ending at stop (exclusive), and with the specified `step`.\n",
        "\n",
        "def generate_range_array(start, stop, step):\n",
        "    return np.arange(start, stop, step)\n",
        "\n",
        "range_array = generate_range_array(0, 10, 2)\n",
        "print(\"Range array:\", range_array)\n"
      ]
    },
    {
      "cell_type": "code",
      "execution_count": null,
      "metadata": {
        "colab": {
          "base_uri": "https://localhost:8080/"
        },
        "id": "cFHpAwejVPQN",
        "outputId": "55f2130f-443e-4380-ba00-54eefc6d3b02"
      },
      "outputs": [
        {
          "name": "stdout",
          "output_type": "stream",
          "text": [
            "Linear space array: [0.   0.25 0.5  0.75 1.  ]\n"
          ]
        }
      ],
      "source": [
        "# Design a function `generate_linear_space` that takes two floats `start`, `stop`, and an integer `num` as arguments and generates a NumPy array with num equally spaced values between `start` and `stop` (inclusive).\n",
        "\n",
        "def generate_linear_space(start, stop, num):\n",
        "    return np.linspace(start, stop, num)\n",
        "\n",
        "linear_space = generate_linear_space(0, 1, 5)\n",
        "print(\"Linear space array:\", linear_space)\n"
      ]
    },
    {
      "cell_type": "code",
      "execution_count": null,
      "metadata": {
        "colab": {
          "base_uri": "https://localhost:8080/"
        },
        "id": "zN23jhAUVYil",
        "outputId": "03d0f0cf-3c10-4a68-bc22-b2858b237706"
      },
      "outputs": [
        {
          "name": "stdout",
          "output_type": "stream",
          "text": [
            "Identity matrix:\n",
            " [[1. 0. 0.]\n",
            " [0. 1. 0.]\n",
            " [0. 0. 1.]]\n"
          ]
        }
      ],
      "source": [
        "# Create a function `create_identity_matrix` that takes an integer `n` as input and generates a square identity matrix of size `n x n` using `numpy.eye`.\n",
        "\n",
        "def create_identity_matrix(n):\n",
        "    return np.eye(n)\n",
        "\n",
        "identity_matrix = create_identity_matrix(3)\n",
        "print(\"Identity matrix:\\n\", identity_matrix)"
      ]
    },
    {
      "cell_type": "code",
      "execution_count": null,
      "metadata": {
        "colab": {
          "base_uri": "https://localhost:8080/"
        },
        "id": "oLvD1-lwVgeq",
        "outputId": "eeee8eb9-aab9-40d7-dabc-5ec8a2d3f7f2"
      },
      "outputs": [
        {
          "name": "stdout",
          "output_type": "stream",
          "text": [
            "Converted NumPy array from list: [1 2 3 4 5]\n"
          ]
        }
      ],
      "source": [
        "# Write a function that takes a Python list and converts it into a NumPy array.\n",
        "\n",
        "def list_to_numpy_array(lst):\n",
        "    return np.array(lst)\n",
        "\n",
        "python_list = [1, 2, 3, 4, 5]\n",
        "numpy_array = list_to_numpy_array(python_list)\n",
        "print(\"Converted NumPy array from list:\", numpy_array)"
      ]
    },
    {
      "cell_type": "code",
      "execution_count": null,
      "metadata": {
        "colab": {
          "base_uri": "https://localhost:8080/"
        },
        "id": "sXOjHUHoVlw8",
        "outputId": "afcb5a8f-7992-4dfc-8848-dbbce18fa2b5"
      },
      "outputs": [
        {
          "name": "stdout",
          "output_type": "stream",
          "text": [
            "Original array: [1 2 3 4 5]\n",
            "View of the original array: [1 2 3 4 5]\n"
          ]
        }
      ],
      "source": [
        "# Create a NumPy array and demonstrate the use of `numpy.view` to create a new array object with the same data.\n",
        "\n",
        "original_array = np.array([1, 2, 3, 4, 5])\n",
        "view_array = original_array.view()\n",
        "print(\"Original array:\", original_array)\n",
        "print(\"View of the original array:\", view_array)\n",
        "\n"
      ]
    },
    {
      "cell_type": "code",
      "execution_count": null,
      "metadata": {
        "colab": {
          "base_uri": "https://localhost:8080/"
        },
        "id": "ZFIGjJbXVpDX",
        "outputId": "222e9677-4566-488c-e6bf-3f98b3bb9bda"
      },
      "outputs": [
        {
          "name": "stdout",
          "output_type": "stream",
          "text": [
            "18. Concatenated array: [1 2 3 4 5 6]\n"
          ]
        }
      ],
      "source": [
        "# Write a function that takes two NumPy arrays and concatenates them along a specified axis.\n",
        "\n",
        "def concatenate_arrays(arr1, arr2, axis=0):\n",
        "    return np.concatenate((arr1, arr2), axis=axis)\n",
        "\n",
        "# Example\n",
        "arr1 = np.array([1, 2, 3])\n",
        "arr2 = np.array([4, 5, 6])\n",
        "result = concatenate_arrays(arr1, arr2)\n",
        "print(\"18. Concatenated array:\", result)\n"
      ]
    },
    {
      "cell_type": "code",
      "execution_count": null,
      "metadata": {
        "colab": {
          "base_uri": "https://localhost:8080/"
        },
        "id": "-IcaR-SxWfbS",
        "outputId": "343927ac-67b9-4acb-e7a6-5c533dd78b69"
      },
      "outputs": [
        {
          "name": "stdout",
          "output_type": "stream",
          "text": [
            "19. Horizontally concatenated arrays:\n",
            " [[1 2 5]\n",
            " [3 4 6]]\n"
          ]
        }
      ],
      "source": [
        "#Create two NumPy arrays with different shapes and concatenate them horizontally using `numpy. concatenate`.\n",
        "\n",
        "arr1 = np.array([[1, 2], [3, 4]])\n",
        "arr2 = np.array([[5], [6]])\n",
        "result = np.concatenate((arr1, arr2), axis=1)\n",
        "print(\"19. Horizontally concatenated arrays:\\n\", result)\n"
      ]
    },
    {
      "cell_type": "code",
      "execution_count": null,
      "metadata": {
        "colab": {
          "base_uri": "https://localhost:8080/"
        },
        "id": "GAgJTtIIWhsL",
        "outputId": "942df2f5-9ae6-4ae2-ecc7-320b49b11ea1"
      },
      "outputs": [
        {
          "name": "stdout",
          "output_type": "stream",
          "text": [
            "20. Vertically stacked arrays:\n",
            " [[1 2 3]\n",
            " [4 5 6]\n",
            " [7 8 9]]\n"
          ]
        }
      ],
      "source": [
        "#Write a function that vertically stacks multiple NumPy arrays given as a list.\n",
        "\n",
        "def vertical_stack(arr_list):\n",
        "    return np.vstack(arr_list)\n",
        "\n",
        "# Example\n",
        "arr1 = np.array([1, 2, 3])\n",
        "arr2 = np.array([4, 5, 6])\n",
        "arr3 = np.array([7, 8, 9])\n",
        "result = vertical_stack([arr1, arr2, arr3])\n",
        "print(\"20. Vertically stacked arrays:\\n\", result)\n"
      ]
    },
    {
      "cell_type": "code",
      "execution_count": null,
      "metadata": {
        "colab": {
          "base_uri": "https://localhost:8080/"
        },
        "id": "UUcBFOlBWkAJ",
        "outputId": "b79c8ce3-d5f4-4f45-bdaa-c03115fb3f76"
      },
      "outputs": [
        {
          "name": "stdout",
          "output_type": "stream",
          "text": [
            "21. Range array: [ 0  2  4  6  8 10]\n"
          ]
        }
      ],
      "source": [
        "#. Write a Python function using NumPy to create an array of integers within a specified range (inclusive) with a given step size.\n",
        "\n",
        "def create_range_array(start, stop, step):\n",
        "    return np.arange(start, stop + 1, step)\n",
        "\n",
        "# Example\n",
        "result = create_range_array(0, 10, 2)\n",
        "print(\"21. Range array:\", result)"
      ]
    },
    {
      "cell_type": "code",
      "execution_count": null,
      "metadata": {
        "colab": {
          "base_uri": "https://localhost:8080/"
        },
        "id": "FDrlAfyIWmWz",
        "outputId": "f2f4c840-2f36-4f0f-ca5d-fc2ca7ce8411"
      },
      "outputs": [
        {
          "name": "stdout",
          "output_type": "stream",
          "text": [
            "22. Linspace array: [ 0.  2.  4.  6.  8. 10. 12. 14. 16. 18.]\n"
          ]
        }
      ],
      "source": [
        "# Write a Python function using NumPy to generate an array of 10 equally spaced values between 0 and 1 (inclusive).\n",
        "\n",
        "def linspace_array():\n",
        "    return np.linspace(0, 18, 10)\n",
        "\n",
        "# Example\n",
        "result = linspace_array()\n",
        "print(\"22. Linspace array:\", result)\n"
      ]
    },
    {
      "cell_type": "code",
      "execution_count": null,
      "metadata": {
        "colab": {
          "base_uri": "https://localhost:8080/"
        },
        "id": "F4Jre9NNWosq",
        "outputId": "f41e3adf-1e2e-4c69-e2cf-e258a7c2ca02"
      },
      "outputs": [
        {
          "name": "stdout",
          "output_type": "stream",
          "text": [
            "23. Logspace array: [   1.            5.62341325   31.6227766   177.827941   1000.        ]\n"
          ]
        }
      ],
      "source": [
        "# Write a Python function using NumPy to create an array of 5 logarithmically spaced values between 1 and 1000 (inclusive).\n",
        "\n",
        "def logspace_array():\n",
        "    return np.logspace(0, 3, 5)\n",
        "\n",
        "# Example\n",
        "result = logspace_array()\n",
        "print(\"23. Logspace array:\", result)\n"
      ]
    },
    {
      "cell_type": "code",
      "execution_count": null,
      "metadata": {
        "colab": {
          "base_uri": "https://localhost:8080/"
        },
        "id": "EL5jt18PXW3w",
        "outputId": "fa6e05a4-3df6-4b85-f255-ce50d18a112a"
      },
      "outputs": [
        {
          "name": "stdout",
          "output_type": "stream",
          "text": [
            "24. Random DataFrame:\n",
            "     A   B   C\n",
            "0  32  67  62\n",
            "1  72  89  59\n",
            "2   8  20   3\n",
            "3  13  26  23\n",
            "4   7  40  61\n"
          ]
        }
      ],
      "source": [
        "# Create a Pandas DataFrame using a NumPy array that contains 5 rows and 3 columns, where the values are random integers between 1 and 100.\n",
        "\n",
        "def create_random_dataframe():\n",
        "    data = np.random.randint(1, 101, size=(5, 3))\n",
        "    return pd.DataFrame(data, columns=['A', 'B', 'C'])\n",
        "\n",
        "# Example\n",
        "df = create_random_dataframe()\n",
        "print(\"24. Random DataFrame:\\n\", df)\n"
      ]
    },
    {
      "cell_type": "code",
      "execution_count": null,
      "metadata": {
        "colab": {
          "base_uri": "https://localhost:8080/"
        },
        "id": "arbt9l6gXXOs",
        "outputId": "772ecbe0-d898-46b9-cda4-31d466a3e3ec"
      },
      "outputs": [
        {
          "name": "stdout",
          "output_type": "stream",
          "text": [
            "25. DataFrame with replaced negatives:\n",
            "    A  B\n",
            "0  1  0\n",
            "1 -2  5\n",
            "2  3  0\n"
          ]
        }
      ],
      "source": [
        "# Write a function that takes a Pandas DataFrame and replaces all negative values in a specific column with zeros. Use NumPy operations within the Pandas DataFrame.\n",
        "\n",
        "def replace_negatives(df, column):\n",
        "    df[column] = df[column].clip(lower=0)\n",
        "    return df\n",
        "\n",
        "# Example\n",
        "df = pd.DataFrame({'A': [1, -2, 3], 'B': [-4, 5, -6]})\n",
        "result = replace_negatives(df, 'B')\n",
        "print(\"25. DataFrame with replaced negatives:\\n\", result)\n"
      ]
    },
    {
      "cell_type": "code",
      "execution_count": null,
      "metadata": {
        "colab": {
          "base_uri": "https://localhost:8080/"
        },
        "id": "V5pqqwXqXadp",
        "outputId": "ae6e708c-cc11-446d-f71c-1d5b54fa4b13"
      },
      "outputs": [
        {
          "name": "stdout",
          "output_type": "stream",
          "text": [
            "26. Third element: 30\n"
          ]
        }
      ],
      "source": [
        "#Access the 3rd element from the given NumPy array.\n",
        "\n",
        "arr = np.array([10, 20, 30, 40, 50])\n",
        "third_element = arr[2]\n",
        "print(\"26. Third element:\", third_element)\n"
      ]
    },
    {
      "cell_type": "code",
      "execution_count": null,
      "metadata": {
        "colab": {
          "base_uri": "https://localhost:8080/"
        },
        "id": "ZLTkO5bpXeW2",
        "outputId": "bcea0399-5a24-4de7-d522-044bcd9a018e"
      },
      "outputs": [
        {
          "name": "stdout",
          "output_type": "stream",
          "text": [
            "27. Element at index (1, 2): 6\n"
          ]
        }
      ],
      "source": [
        "# Retrieve the element at index (1, 2) from the 2D NumPy array.\n",
        "\n",
        "arr_2d = np.array([[1, 2, 3],\n",
        "                   [4, 5, 6],\n",
        "                   [7, 8, 9]])\n",
        "element = arr_2d[1, 2]\n",
        "print(\"27. Element at index (1, 2):\", element)\n"
      ]
    },
    {
      "cell_type": "code",
      "execution_count": null,
      "metadata": {
        "colab": {
          "base_uri": "https://localhost:8080/"
        },
        "id": "usBsWFwCXg4G",
        "outputId": "093ef89d-d553-405a-a090-0faefaca28ad"
      },
      "outputs": [
        {
          "name": "stdout",
          "output_type": "stream",
          "text": [
            "28. Elements greater than 5: [ 8 10  7]\n"
          ]
        }
      ],
      "source": [
        "#Using boolean indexing, extract elements greater than 5 from the given NumPy array\n",
        "\n",
        "arr = np.array([3, 8, 2, 10, 5, 7])\n",
        "result = arr[arr > 5]\n",
        "print(\"28. Elements greater than 5:\", result)"
      ]
    },
    {
      "cell_type": "code",
      "execution_count": null,
      "metadata": {
        "colab": {
          "base_uri": "https://localhost:8080/"
        },
        "id": "hXqcwCCUXjAH",
        "outputId": "671a3104-b6ee-4c81-ffd2-5c49a9c81880"
      },
      "outputs": [
        {
          "name": "stdout",
          "output_type": "stream",
          "text": [
            "29. Sliced array: [3 4 5 6]\n"
          ]
        }
      ],
      "source": [
        "#Perform basic slicing to extract elements from index 2 to 5 (inclusive) from the given NumPy array.\n",
        "\n",
        "arr = np.array([1, 2, 3, 4, 5, 6, 7, 8, 9])\n",
        "result = arr[2:6]\n",
        "print(\"29. Sliced array:\", result)"
      ]
    },
    {
      "cell_type": "code",
      "execution_count": null,
      "metadata": {
        "colab": {
          "base_uri": "https://localhost:8080/"
        },
        "id": "z0ZSkzqBXlhI",
        "outputId": "6c75b6b7-1707-4075-eeba-70cf9f2d138d"
      },
      "outputs": [
        {
          "name": "stdout",
          "output_type": "stream",
          "text": [
            "30. Sliced 2D array:\n",
            " [[2 3]\n",
            " [5 6]]\n"
          ]
        }
      ],
      "source": [
        "# Slice the 2D NumPy array to extract the sub-array `[[2, 3], [5, 6]]` from the given array\n",
        "\n",
        "arr_2d = np.array([[1, 2, 3],\n",
        "                   [4, 5, 6],\n",
        "                   [7, 8, 9]])\n",
        "result = arr_2d[0:2, 1:3]\n",
        "print(\"30. Sliced 2D array:\\n\", result)\n"
      ]
    },
    {
      "cell_type": "code",
      "execution_count": null,
      "metadata": {
        "colab": {
          "base_uri": "https://localhost:8080/"
        },
        "id": "9eP8bqrZXoO3",
        "outputId": "f222a90d-6ab8-4f87-84be-3308acc3d831"
      },
      "outputs": [
        {
          "name": "stdout",
          "output_type": "stream",
          "text": [
            "31. Extracted elements: [2 6 7]\n"
          ]
        }
      ],
      "source": [
        "#Write a NumPy function to extract elements in specific order from a given 2D array based on indices provided in another array\n",
        "\n",
        "def extract_elements_2d(arr, indices):\n",
        "    return arr[indices[:, 0], indices[:, 1]]\n",
        "\n",
        "# Example\n",
        "arr_31 = np.array([[1, 2, 3], [4, 5, 6], [7, 8, 9]])\n",
        "indices_31 = np.array([[0, 1], [1, 2], [2, 0]])\n",
        "result_31 = extract_elements_2d(arr_31, indices_31)\n",
        "print(\"31. Extracted elements:\", result_31)\n"
      ]
    },
    {
      "cell_type": "code",
      "execution_count": null,
      "metadata": {
        "colab": {
          "base_uri": "https://localhost:8080/"
        },
        "id": "Z7dP0XeNYDRZ",
        "outputId": "1a13b821-e336-4107-e3f3-dca14a1dc52f"
      },
      "outputs": [
        {
          "name": "stdout",
          "output_type": "stream",
          "text": [
            "32. Filtered elements: [5 8 7]\n"
          ]
        }
      ],
      "source": [
        "#Create a NumPy function that filters elements greater than a threshold from a given 1D array using boolean indexing.\n",
        "\n",
        "def filter_elements(arr, threshold):\n",
        "    return arr[arr > threshold]\n",
        "\n",
        "# Example\n",
        "arr_32 = np.array([1, 5, 3, 8, 2, 7])\n",
        "result_32 = filter_elements(arr_32, 4)\n",
        "print(\"32. Filtered elements:\", result_32)"
      ]
    },
    {
      "cell_type": "code",
      "execution_count": null,
      "metadata": {
        "colab": {
          "base_uri": "https://localhost:8080/"
        },
        "id": "1LqraMa5YGpD",
        "outputId": "0d7d91b8-3565-4e11-fdcc-f257fc6656f1"
      },
      "outputs": [
        {
          "name": "stdout",
          "output_type": "stream",
          "text": [
            "33. Extracted elements from 3D array: [2 7]\n"
          ]
        }
      ],
      "source": [
        "#Develop a NumPy function that extracts specific elements from a 3D array using indices provided in three separate arrays for each dimension.\n",
        "\n",
        "def extract_elements_3d(arr, indices_x, indices_y, indices_z):\n",
        "    return arr[indices_x, indices_y, indices_z]\n",
        "\n",
        "# Example\n",
        "arr_33 = np.array([[[1, 2], [3, 4]], [[5, 6], [7, 8]]])\n",
        "indices_x_33 = np.array([0, 1])\n",
        "indices_y_33 = np.array([0, 1])\n",
        "indices_z_33 = np.array([1, 0])\n",
        "result_33 = extract_elements_3d(arr_33, indices_x_33, indices_y_33, indices_z_33)\n",
        "print(\"33. Extracted elements from 3D array:\", result_33)\n"
      ]
    },
    {
      "cell_type": "code",
      "execution_count": null,
      "metadata": {
        "colab": {
          "base_uri": "https://localhost:8080/"
        },
        "id": "_Y611jtYYJFw",
        "outputId": "6890bd57-62c9-4516-ea3d-2a6a3e750171"
      },
      "outputs": [
        {
          "name": "stdout",
          "output_type": "stream",
          "text": [
            "34. Elements satisfying two conditions: [5 7]\n"
          ]
        }
      ],
      "source": [
        "#Write a NumPy function that returns elements from an array where both two conditions are satisfied using boolean indexing.\n",
        "\n",
        "def filter_two_conditions(arr, condition1, condition2):\n",
        "    return arr[(condition1) & (condition2)]\n",
        "\n",
        "# Example\n",
        "arr_34 = np.array([1, 5, 3, 8, 2, 7])\n",
        "result_34 = filter_two_conditions(arr_34, arr_34 > 3, arr_34 < 8)\n",
        "print(\"34. Elements satisfying two conditions:\", result_34)"
      ]
    },
    {
      "cell_type": "code",
      "execution_count": null,
      "metadata": {
        "colab": {
          "base_uri": "https://localhost:8080/"
        },
        "id": "9CtLC8lZYMJ9",
        "outputId": "6f0375bc-1c48-4f7d-c3b1-97e5feafac6d"
      },
      "outputs": [
        {
          "name": "stdout",
          "output_type": "stream",
          "text": [
            "35. Extracted elements using separate indices: [2 9]\n"
          ]
        }
      ],
      "source": [
        "#Create a NumPy function that extracts elements from a 2D array using row and column indices provided in separate arrays.\n",
        "\n",
        "def extract_elements_2d_separate(arr, row_indices, col_indices):\n",
        "    return arr[row_indices, col_indices]\n",
        "\n",
        "# Example\n",
        "arr_35 = np.array([[1, 2, 3], [4, 5, 6], [7, 8, 9]])\n",
        "row_indices_35 = np.array([0, 2])\n",
        "col_indices_35 = np.array([1, 2])\n",
        "result_35 = extract_elements_2d_separate(arr_35, row_indices_35, col_indices_35)\n",
        "print(\"35. Extracted elements using separate indices:\", result_35)"
      ]
    },
    {
      "cell_type": "code",
      "execution_count": null,
      "metadata": {
        "colab": {
          "base_uri": "https://localhost:8080/"
        },
        "id": "99NNJDGaYOug",
        "outputId": "d8461c37-527e-487d-b88a-546d815dbd8e"
      },
      "outputs": [
        {
          "name": "stdout",
          "output_type": "stream",
          "text": [
            "36. Array after adding 5 to each element:\n",
            " [[ 6  7  8]\n",
            " [ 9 10 11]\n",
            " [12 13 14]]\n"
          ]
        }
      ],
      "source": [
        "#Given an array arr of shape (3, 3), add a scalar value of 5 to each element using NumPy broadcasting.\n",
        "\n",
        "arr_36 = np.array([[1, 2, 3], [4, 5, 6], [7, 8, 9]])\n",
        "result_36 = arr_36 + 5\n",
        "print(\"36. Array after adding 5 to each element:\\n\", result_36)"
      ]
    },
    {
      "cell_type": "code",
      "execution_count": null,
      "metadata": {
        "colab": {
          "base_uri": "https://localhost:8080/"
        },
        "id": "S_pMDZH1YRWr",
        "outputId": "2ed057f0-81ac-471f-9cef-1f811484e46e"
      },
      "outputs": [
        {
          "name": "stdout",
          "output_type": "stream",
          "text": [
            "37. Result of multiplication:\n",
            " [[ 1  2  3  4]\n",
            " [10 12 14 16]\n",
            " [27 30 33 36]]\n"
          ]
        }
      ],
      "source": [
        "# Consider two arrays arr1 of shape (1, 3) and arr2 of shape (3, 4). Multiply each row of arr2 by the corresponding element in arr1 using NumPy broadcasting.\n",
        "\n",
        "arr1_37 = np.array([[1, 2, 3]])\n",
        "arr2_37 = np.array([[1, 2, 3, 4], [5, 6, 7, 8], [9, 10, 11, 12]])\n",
        "result_37 = arr1_37.T * arr2_37\n",
        "print(\"37. Result of multiplication:\\n\", result_37)\n"
      ]
    },
    {
      "cell_type": "code",
      "execution_count": null,
      "metadata": {
        "colab": {
          "base_uri": "https://localhost:8080/"
        },
        "id": "N0RAPsfOYT6r",
        "outputId": "bb3756d4-b340-4bdd-b4f6-b55662448acc"
      },
      "outputs": [
        {
          "name": "stdout",
          "output_type": "stream",
          "text": [
            "38. Result of addition:\n",
            " [[ 2  3  4]\n",
            " [ 6  7  8]\n",
            " [10 11 12]\n",
            " [14 15 16]]\n"
          ]
        }
      ],
      "source": [
        "#Given a 1D array arr1 of shape (1, 4) and a 2D array arr2 of shape (4, 3), add arr1 to each row of arr2 using NumPy broadcasting.\n",
        "\n",
        "arr1_38 = np.array([[1, 2, 3, 4]])\n",
        "arr2_38 = np.array([[1, 2, 3], [4, 5, 6], [7, 8, 9], [10, 11, 12]])\n",
        "result_38 = arr1_38.T + arr2_38\n",
        "print(\"38. Result of addition:\\n\", result_38)"
      ]
    },
    {
      "cell_type": "code",
      "execution_count": null,
      "metadata": {
        "colab": {
          "base_uri": "https://localhost:8080/"
        },
        "id": "Xev71CQrYWHb",
        "outputId": "325213b7-1bc0-4b74-d5cb-5132597ec89b"
      },
      "outputs": [
        {
          "name": "stdout",
          "output_type": "stream",
          "text": [
            "39. Result of addition:\n",
            " [[5 6 7]\n",
            " [6 7 8]\n",
            " [7 8 9]]\n"
          ]
        }
      ],
      "source": [
        "# Consider two arrays arr1 of shape (3, 1) and arr2 of shape (1, 3). Add these arrays using NumPy broadcasting.\n",
        "\n",
        "arr1_39 = np.array([[1], [2], [3]])\n",
        "arr2_39 = np.array([[4, 5, 6]])\n",
        "result_39 = arr1_39 + arr2_39\n",
        "print(\"39. Result of addition:\\n\", result_39)"
      ]
    },
    {
      "cell_type": "code",
      "execution_count": null,
      "metadata": {
        "colab": {
          "base_uri": "https://localhost:8080/"
        },
        "id": "QCk4dW1OYYg-",
        "outputId": "33c8aa67-669b-414d-da8d-388ba20bed00"
      },
      "outputs": [
        {
          "name": "stdout",
          "output_type": "stream",
          "text": [
            "40. Result of multiplication:\n",
            " [[ 1  4]\n",
            " [12 20]]\n"
          ]
        }
      ],
      "source": [
        "#Given arrays arr1 of shape (2, 3) and arr2 of shape (2, 2), perform multiplication using NumPy broadcasting. Handle the shape incompatibility.\n",
        "\n",
        "arr1_40 = np.array([[1, 2, 3], [4, 5, 6]])\n",
        "arr2_40 = np.array([[1, 2], [3, 4]])\n",
        "result_40 = arr1_40[:, :2] * arr2_40\n",
        "print(\"40. Result of multiplication:\\n\", result_40)"
      ]
    },
    {
      "cell_type": "code",
      "execution_count": null,
      "metadata": {
        "colab": {
          "base_uri": "https://localhost:8080/"
        },
        "id": "R-K_nJTgYdcg",
        "outputId": "990e423b-8d5f-41ca-8ee7-b7b91dc35c51"
      },
      "outputs": [
        {
          "name": "stdout",
          "output_type": "stream",
          "text": [
            "41. Column-wise mean: [2.5 3.5 4.5]\n"
          ]
        }
      ],
      "source": [
        "# Calculate column wise mean for the given array:\n",
        "\n",
        "arr_41 = np.array([[1, 2, 3], [4, 5, 6]])\n",
        "result_41 = np.mean(arr_41, axis=0)\n",
        "print(\"41. Column-wise mean:\", result_41)"
      ]
    },
    {
      "cell_type": "code",
      "execution_count": null,
      "metadata": {
        "colab": {
          "base_uri": "https://localhost:8080/"
        },
        "id": "WINFQH-GYhDh",
        "outputId": "e686f4eb-be7b-44a8-86b7-ea32559a97b3"
      },
      "outputs": [
        {
          "name": "stdout",
          "output_type": "stream",
          "text": [
            "42. Maximum value in each row: [3 6]\n"
          ]
        }
      ],
      "source": [
        "# Find maximum value in each row of the given array:\n",
        "\n",
        "arr_42 = np.array([[1, 2, 3], [4, 5, 6]])\n",
        "result_42 = np.max(arr_42, axis=1)\n",
        "print(\"42. Maximum value in each row:\", result_42)"
      ]
    },
    {
      "cell_type": "code",
      "execution_count": null,
      "metadata": {
        "colab": {
          "base_uri": "https://localhost:8080/"
        },
        "id": "tziuaR9zYi_K",
        "outputId": "02d4b8aa-6fb1-4a0b-f2da-066e521ffd49"
      },
      "outputs": [
        {
          "name": "stdout",
          "output_type": "stream",
          "text": [
            "43. Indices of maximum value in each column: [1 1 1]\n"
          ]
        }
      ],
      "source": [
        "# For the given array, find indices of maximum value in each column.\n",
        "\n",
        "arr_43 = np.array([[1, 2, 3], [4, 5, 6]])\n",
        "result_43 = np.argmax(arr_43, axis=0)\n",
        "print(\"43. Indices of maximum value in each column:\", result_43)"
      ]
    },
    {
      "cell_type": "code",
      "execution_count": null,
      "metadata": {
        "colab": {
          "base_uri": "https://localhost:8080/"
        },
        "id": "tohIbmPyYlA6",
        "outputId": "781c0a14-c9a4-4f44-9a8c-4f211cc7bef8"
      },
      "outputs": [
        {
          "name": "stdout",
          "output_type": "stream",
          "text": [
            "44. Moving sum along rows:\n",
            " [[ 3.  5.]\n",
            " [ 9. 11.]]\n"
          ]
        }
      ],
      "source": [
        "# For the given array, apply custom function to calculate moving sum along rows.\n",
        "\n",
        "\n",
        "arr_44 = np.array([[1, 2, 3], [4, 5, 6]])\n",
        "result_44 = moving_sum(arr_44, 2)\n",
        "print(\"44. Moving sum along rows:\\n\", result_44)\n"
      ]
    },
    {
      "cell_type": "code",
      "execution_count": null,
      "metadata": {
        "colab": {
          "base_uri": "https://localhost:8080/"
        },
        "id": "oYr6CJSGYnBQ",
        "outputId": "cd1fa47c-5bc4-4584-962b-64683fcb1374"
      },
      "outputs": [
        {
          "name": "stdout",
          "output_type": "stream",
          "text": [
            "45. All elements in each column are even: [False False False]\n"
          ]
        }
      ],
      "source": [
        "# In the given array, check if all elements in each column are even.\n",
        "\n",
        "\n",
        "arr_45 = np.array([[2, 4, 6], [3, 5, 7]])\n",
        "result_45 = np.all(arr_45 % 2 == 0, axis=0)\n",
        "print(\"45. All elements in each column are even:\", result_45)"
      ]
    },
    {
      "cell_type": "code",
      "execution_count": null,
      "metadata": {
        "colab": {
          "base_uri": "https://localhost:8080/"
        },
        "id": "vgyt939wYqO0",
        "outputId": "1d31380a-c3d7-4126-bd8d-b101566167ce"
      },
      "outputs": [
        {
          "output_type": "stream",
          "name": "stdout",
          "text": [
            "[[1 2 3]\n",
            " [4 5 6]]\n"
          ]
        }
      ],
      "source": [
        "# Given a NumPy array arr, reshape it into a matrix of dimensions `m` rows and `n` columns. Return thereshaped matrix.\n",
        "\n",
        "def reshape_matrix(arr, m, n):\n",
        "\n",
        "  if len(arr) != m * n:\n",
        "    raise ValueError\n",
        "  return arr.reshape(m, n)\n",
        "\n",
        "original_array = np.array([1, 2, 3, 4, 5, 6])\n",
        "reshaped_matrix = reshape_matrix(original_array, 2, 3)\n",
        "print(reshaped_matrix)\n"
      ]
    },
    {
      "cell_type": "code",
      "execution_count": null,
      "metadata": {
        "colab": {
          "base_uri": "https://localhost:8080/"
        },
        "id": "Hzxgm4FkZ4bn",
        "outputId": "399f0bfc-7333-4a27-aa79-7bc60cddf288"
      },
      "outputs": [
        {
          "output_type": "stream",
          "name": "stdout",
          "text": [
            "[1 2 3 4 5 6]\n"
          ]
        }
      ],
      "source": [
        "# Create a function that takes a matrix as input and returns the flattened array.\n",
        "\n",
        "def flatten_matrix(matrix):\n",
        "  return matrix.flatten()\n",
        "input_matrix = np.array([[1, 2, 3], [4, 5, 6]])\n",
        "flattened_array = flatten_matrix(input_matrix)\n",
        "print(flattened_array)\n"
      ]
    },
    {
      "cell_type": "code",
      "execution_count": null,
      "metadata": {
        "colab": {
          "base_uri": "https://localhost:8080/"
        },
        "id": "OcVlO-KQZ73d",
        "outputId": "85d85258-ff97-4c0e-e0be-15b79056f10b"
      },
      "outputs": [
        {
          "output_type": "stream",
          "name": "stdout",
          "text": [
            "[[1 2 5 6]\n",
            " [3 4 7 8]]\n"
          ]
        }
      ],
      "source": [
        "# Write a function that concatenates two given arrays along a specified axis.\n",
        "\n",
        "def concatenate_arrays(array1, array2, axis):\n",
        "  return np.concatenate((array1, array2), axis=axis)\n",
        "array1 = np.array([[1, 2], [3, 4]])\n",
        "array2 = np.array([[5, 6], [7, 8]])\n",
        "concatenated_array = concatenate_arrays(array1, array2, axis=1)\n",
        "print(concatenated_array)"
      ]
    },
    {
      "cell_type": "code",
      "execution_count": null,
      "metadata": {
        "colab": {
          "base_uri": "https://localhost:8080/"
        },
        "id": "mNFfRNhaZ_IP",
        "outputId": "68b32814-3cfd-482c-c192-a88279316e17"
      },
      "outputs": [
        {
          "output_type": "stream",
          "name": "stdout",
          "text": [
            "[array([[1],\n",
            "       [4],\n",
            "       [7]]), array([[2],\n",
            "       [5],\n",
            "       [8]]), array([[3],\n",
            "       [6],\n",
            "       [9]])]\n"
          ]
        }
      ],
      "source": [
        "# Create a function that splits an array into multiple sub-arrays along a specified axis.\n",
        "\n",
        "\n",
        "original_array = np.array([[1, 2, 3], [4, 5, 6], [7, 8, 9]])\n",
        "sub_arrays = split_array(original_array, axis=1, sections=3)\n",
        "print(sub_arrays)\n"
      ]
    },
    {
      "cell_type": "code",
      "execution_count": null,
      "metadata": {
        "colab": {
          "base_uri": "https://localhost:8080/"
        },
        "id": "5w1hLyswaC2O",
        "outputId": "dd9fed8a-b259-4d5c-9607-33a25dac3718"
      },
      "outputs": [
        {
          "output_type": "stream",
          "name": "stdout",
          "text": [
            "[ 1 10  4 11  5]\n"
          ]
        }
      ],
      "source": [
        "# Write a function that inserts and then deletes elements from a given array at specified indices.\n",
        "\n",
        "def insert_and_delete(array, insert_indices, insert_values, delete_indices):\n",
        "\n",
        "  array = np.insert(array, insert_indices, insert_values)\n",
        "  array = np.delete(array, delete_indices)\n",
        "  return array\n",
        "\n",
        "original_array = np.array([1, 2, 3, 4, 5])\n",
        "indices_to_insert = [2, 4]\n",
        "values_to_insert = [10, 11]\n",
        "indices_to_delete = [1, 3]\n",
        "modified_array = insert_and_delete(original_array, indices_to_insert, values_to_insert, indices_to_delete)\n",
        "print(modified_array)\n"
      ]
    },
    {
      "cell_type": "code",
      "execution_count": null,
      "metadata": {
        "colab": {
          "base_uri": "https://localhost:8080/"
        },
        "id": "wbt3OJizaJO1",
        "outputId": "09063215-55fd-4233-cd96-277233c840c9"
      },
      "outputs": [
        {
          "output_type": "stream",
          "name": "stdout",
          "text": [
            "[ 6  7  4  6  8 13 14 13 17 12]\n"
          ]
        }
      ],
      "source": [
        "#Create a NumPy array `arr1` with random integers and another array `arr2` with integers from 1 to 10. Perform element-wise addition between `arr1` and `arr2`.\n",
        "\n",
        "arr1 = np.random.randint(1, 10, size=10)\n",
        "arr2 = np.arange(1, 11)\n",
        "result_add = arr1 + arr2\n",
        "print(result_add)\n",
        "\n"
      ]
    },
    {
      "cell_type": "code",
      "source": [
        "# Generate a NumPy array `arr1` with sequential integers from 10 to 1 and another array `arr2` with integers from 1 to 10. Subtract `arr2` from `arr1` element-wise.\n",
        "\n",
        "arr1 = np.arange(10, 0, -1)\n",
        "arr2 = np.arange(1, 11)\n",
        "result_sub = arr1 - arr2\n",
        "print(result_sub)"
      ],
      "metadata": {
        "colab": {
          "base_uri": "https://localhost:8080/"
        },
        "id": "phO047n7yu2p",
        "outputId": "c2353cdc-7bd6-4d6e-db29-cbbeb730c46f"
      },
      "execution_count": null,
      "outputs": [
        {
          "output_type": "stream",
          "name": "stdout",
          "text": [
            "[ 9  7  5  3  1 -1 -3 -5 -7 -9]\n"
          ]
        }
      ]
    },
    {
      "cell_type": "code",
      "source": [
        "# Create a NumPy array `arr1` with random integers and another array `arr2` with integers from 1 to 5. Perform element-wise multiplication between `arr1` and `arr2`.\n",
        "\n",
        "arr1 = np.random.randint(1, 10, size=5)\n",
        "arr2 = np.arange(1, 6)\n",
        "result_mul = arr1 * arr2\n",
        "print(result_mul)"
      ],
      "metadata": {
        "colab": {
          "base_uri": "https://localhost:8080/"
        },
        "id": "cdXt9ZUZyzao",
        "outputId": "3035100e-34c1-40a4-c5c0-77d67fb885f6"
      },
      "execution_count": null,
      "outputs": [
        {
          "output_type": "stream",
          "name": "stdout",
          "text": [
            "[ 7 10  9 36 30]\n"
          ]
        }
      ]
    },
    {
      "cell_type": "code",
      "source": [
        "# Generate a NumPy array `arr1` with even integers from 2 to 10 and another array `arr2` with integers from 1 to 5. Perform element-wise division of `arr1` by `arr2`.\n",
        "\n",
        "arr1 = np.arange(2, 12, 2)\n",
        "arr2 = np.arange(1, 6)\n",
        "result_div = arr1 / arr2\n",
        "print(result_div)"
      ],
      "metadata": {
        "colab": {
          "base_uri": "https://localhost:8080/"
        },
        "id": "JsKMhTE5y38J",
        "outputId": "866bad1d-f718-4c5b-de54-0a7a2a641125"
      },
      "execution_count": null,
      "outputs": [
        {
          "output_type": "stream",
          "name": "stdout",
          "text": [
            "[2. 2. 2. 2. 2.]\n"
          ]
        }
      ]
    },
    {
      "cell_type": "code",
      "source": [
        "##Create a NumPy array `arr1` with integers from 1 to 5 and another array `arr2` with the same numbers reversed. Calculate the exponentiation of `arr1` raised to the power of `arr2` element-wise.\n",
        "\n",
        "arr1 = np.arange(1, 6)\n",
        "arr2 = arr1[::-1]\n",
        "result_exp = arr1 ** arr2\n",
        "print(result_exp)"
      ],
      "metadata": {
        "colab": {
          "base_uri": "https://localhost:8080/"
        },
        "id": "z8Cx89RVy5C0",
        "outputId": "4012905b-3f86-43bd-edc5-3e61caf3d546"
      },
      "execution_count": null,
      "outputs": [
        {
          "output_type": "stream",
          "name": "stdout",
          "text": [
            "[ 1 16 27 16  5]\n"
          ]
        }
      ]
    },
    {
      "cell_type": "code",
      "execution_count": null,
      "metadata": {
        "colab": {
          "base_uri": "https://localhost:8080/"
        },
        "id": "75twQ5kqaNx0",
        "outputId": "7a27e619-2792-45db-e228-234414289d18"
      },
      "outputs": [
        {
          "output_type": "stream",
          "name": "stdout",
          "text": [
            "3\n"
          ]
        }
      ],
      "source": [
        "#Write a function that counts the occurrences of a specific substring within a NumPy array of strings.\n",
        "\n",
        "arr = np.array(['hello', 'world', 'hello', 'numpy', 'hello'])\n",
        "substring = 'hello'\n",
        "count = count_substring(arr, substring)\n",
        "print(count)\n"
      ]
    },
    {
      "cell_type": "code",
      "execution_count": null,
      "metadata": {
        "colab": {
          "base_uri": "https://localhost:8080/"
        },
        "id": "NlJCOhTLaod3",
        "outputId": "bf0d121d-1159-498e-ee0c-84bf755cd049"
      },
      "outputs": [
        {
          "name": "stdout",
          "output_type": "stream",
          "text": [
            "['H' 'W' 'OAI' 'GPT']\n"
          ]
        }
      ],
      "source": [
        "# Write a function that extracts uppercase characters from a NumPy array of strings.\n",
        "\n",
        "arr = np.array(['Hello', 'World', 'OpenAI', 'GPT'])\n",
        "\n",
        "def extract_uppercase_chars(arr):\n",
        "  return np.array([\"\".join(char for char in word if char.isupper()) for word in arr])\n",
        "\n",
        "arr = np.array(['Hello', 'World', 'OpenAI', 'GPT'])\n",
        "uppercase_chars = extract_uppercase_chars(arr)\n",
        "print(uppercase_chars)\n"
      ]
    },
    {
      "cell_type": "code",
      "execution_count": null,
      "metadata": {
        "colab": {
          "base_uri": "https://localhost:8080/"
        },
        "id": "ssPfx0HDarEw",
        "outputId": "ddbe1cc8-93b9-4d0c-aaaf-87b937166ac3"
      },
      "outputs": [
        {
          "name": "stdout",
          "output_type": "stream",
          "text": [
            "['zzzle' 'banana' 'grape' 'pinezzzle']\n"
          ]
        }
      ],
      "source": [
        "#Write a function that replaces occurrences of a substring in a NumPy array of strings with a new string\n",
        "\n",
        "def soln58(arr, old_substr, new_substr):\n",
        "    return np.char.replace(arr, old_substr, new_substr)\n",
        "\n",
        "arr = np.array(['apple', 'banana', 'grape', 'pineapple'])\n",
        "print(soln58(arr, 'app', 'zzz'))\n",
        "\n"
      ]
    },
    {
      "cell_type": "code",
      "execution_count": null,
      "metadata": {
        "colab": {
          "base_uri": "https://localhost:8080/"
        },
        "id": "vPTtWSMzb1cj",
        "outputId": "57125186-cae8-4442-b949-1b7ef66f151d"
      },
      "outputs": [
        {
          "name": "stdout",
          "output_type": "stream",
          "text": [
            "['HelloOpen' 'WorldAI']\n"
          ]
        }
      ],
      "source": [
        "# Write a function that concatenates strings in a NumPy array element-wise.\n",
        "\n",
        "def soln59(arr1, arr2):\n",
        "    return np.char.add(arr1, arr2)\n",
        "\n",
        "arr1 = np.array(['Hello', 'World'])\n",
        "arr2 = np.array(['Open', 'AI'])\n",
        "print(soln59(arr1, arr2))"
      ]
    },
    {
      "cell_type": "code",
      "execution_count": null,
      "metadata": {
        "colab": {
          "base_uri": "https://localhost:8080/"
        },
        "id": "Uj-uBm_6b3S6",
        "outputId": "a9a574a6-e3d9-4794-ee63-b9757bf2cb86"
      },
      "outputs": [
        {
          "output_type": "stream",
          "name": "stdout",
          "text": [
            "9\n"
          ]
        }
      ],
      "source": [
        "# Write a function that finds the length of the longest string in a NumPy array. arr = np.array(['apple', 'banana', 'grape', 'pineapple'])\n",
        "\n",
        "def soln60(arr):\n",
        "    return np.max(np.char.str_len(arr))\n",
        "\n",
        "arr = np.array(['apple', 'banana', 'grape', 'pineapple'])\n",
        "print(soln60(arr))"
      ]
    },
    {
      "cell_type": "code",
      "execution_count": null,
      "metadata": {
        "colab": {
          "base_uri": "https://localhost:8080/"
        },
        "id": "jHsFZgSVb7Bb",
        "outputId": "7eed1cca-e145-4461-af3a-a32b13008980"
      },
      "outputs": [
        {
          "output_type": "stream",
          "name": "stdout",
          "text": [
            "Mean: 520.36\n",
            "Median: 523.0\n",
            "Variance: 84787.03039999999\n",
            "Standard Deviation: 291.18212582505816\n"
          ]
        }
      ],
      "source": [
        "# Create a dataset of 100 random integers between 1 and 1000. Compute the mean, median, variance, and standard deviation of the dataset using NumPy's functions.\n",
        "\n",
        "def soln61():\n",
        "    dataset = np.random.randint(1, 1001, size=100)\n",
        "\n",
        "    mean = np.mean(dataset)\n",
        "    median = np.median(dataset)\n",
        "    variance = np.var(dataset)\n",
        "    std_dev = np.std(dataset)\n",
        "\n",
        "    print(f\"Mean: {mean}\")\n",
        "    print(f\"Median: {median}\")\n",
        "    print(f\"Variance: {variance}\")\n",
        "    print(f\"Standard Deviation: {std_dev}\")\n",
        "\n",
        "soln61()"
      ]
    },
    {
      "cell_type": "code",
      "execution_count": null,
      "metadata": {
        "colab": {
          "base_uri": "https://localhost:8080/"
        },
        "id": "2i8aTtOCb83Z",
        "outputId": "5a366854-0d38-49d4-8397-7d80506f3197"
      },
      "outputs": [
        {
          "name": "stdout",
          "output_type": "stream",
          "text": [
            "25th Percentile: 34.25\n",
            "75th Percentile: 89.5\n"
          ]
        }
      ],
      "source": [
        "# Generate an array of 50 random numbers between 1 and 100. Find the 25th and 75th percentiles of the dataset.\n",
        "\n",
        "def soln62():\n",
        "    dataset = np.random.randint(1, 101, size=50)\n",
        "\n",
        "    percentiles = np.percentile(dataset, [25, 75])\n",
        "\n",
        "    print(f\"25th Percentile: {percentiles[0]}\")\n",
        "    print(f\"75th Percentile: {percentiles[1]}\")\n",
        "\n",
        "soln62()"
      ]
    },
    {
      "cell_type": "code",
      "execution_count": null,
      "metadata": {
        "colab": {
          "base_uri": "https://localhost:8080/"
        },
        "id": "BXN46wEgb-rz",
        "outputId": "52f50a9f-b3ed-4611-d3a3-b4eb57fd0623"
      },
      "outputs": [
        {
          "name": "stdout",
          "output_type": "stream",
          "text": [
            "Correlation Coefficient: -0.5228104496186808\n"
          ]
        }
      ],
      "source": [
        "# Create two arrays representing two sets of variables. Compute the correlation coefficient between these arrays using NumPy's `corrcoef` function.\n",
        "\n",
        "def soln63(arr1, arr2):\n",
        "    return np.corrcoef(arr1, arr2)[0, 1]\n",
        "\n",
        "arr1 = np.random.rand(10)\n",
        "arr2 = np.random.rand(10)\n",
        "correlation = soln63(arr1, arr2)\n",
        "print(f\"Correlation Coefficient: {correlation}\")"
      ]
    },
    {
      "cell_type": "code",
      "execution_count": null,
      "metadata": {
        "colab": {
          "base_uri": "https://localhost:8080/"
        },
        "id": "OyjmIiLrcBWT",
        "outputId": "68506f81-d9a9-4903-cdd5-7b33642eb92d"
      },
      "outputs": [
        {
          "name": "stdout",
          "output_type": "stream",
          "text": [
            "[[1.18215452 0.76093813]\n",
            " [0.73193844 0.4758703 ]\n",
            " [0.56600904 0.45184648]]\n"
          ]
        }
      ],
      "source": [
        "#Create two matrices and perform matrix multiplication using NumPy's `dot` function\n",
        "\n",
        "def soln64(matrix1, matrix2):\n",
        "    return np.dot(matrix1, matrix2)\n",
        "matrix1 = np.random.rand(3, 4)\n",
        "matrix2 = np.random.rand(4, 2)\n",
        "result = soln64(matrix1, matrix2)\n",
        "print(result)"
      ]
    },
    {
      "cell_type": "code",
      "execution_count": null,
      "metadata": {
        "colab": {
          "base_uri": "https://localhost:8080/"
        },
        "id": "0qRwt5aFcDPH",
        "outputId": "2248a9fd-e435-4c20-8c7b-d92b4f2ffa41"
      },
      "outputs": [
        {
          "output_type": "stream",
          "name": "stdout",
          "text": [
            "10th Percentile: 18.8\n",
            "Median (50th Percentile): 54.0\n",
            "90th Percentile: 90.1\n",
            "First Quartile (25th Percentile): 36.0\n",
            "Third Quartile (75th Percentile): 77.5\n"
          ]
        }
      ],
      "source": [
        "#Create an array of 50 integers between 10 and 1000. Calculate the 10th, 50th (median), and 90th percentiles along with the first and third quartiles.\n",
        "\n",
        "def soln65():\n",
        "\n",
        "    dataset = np.random.randint(10, 101, size=50)\n",
        "\n",
        "    percentiles = np.percentile(dataset, [10, 50, 90])\n",
        "    quartiles = np.percentile(dataset, [25, 75])\n",
        "\n",
        "    print(f\"10th Percentile: {percentiles[0]}\")\n",
        "    print(f\"Median (50th Percentile): {percentiles[1]}\")\n",
        "    print(f\"90th Percentile: {percentiles[2]}\")\n",
        "    print(f\"First Quartile (25th Percentile): {quartiles[0]}\")\n",
        "    print(f\"Third Quartile (75th Percentile): {quartiles[1]}\")\n",
        "\n",
        "soln65()"
      ]
    },
    {
      "cell_type": "code",
      "execution_count": null,
      "metadata": {
        "colab": {
          "base_uri": "https://localhost:8080/"
        },
        "id": "LFyuTkBxcFUj",
        "outputId": "66743055-2797-4349-e9c9-2fc82c86b7ab"
      },
      "outputs": [
        {
          "name": "stdout",
          "output_type": "stream",
          "text": [
            "2\n",
            "-1\n"
          ]
        }
      ],
      "source": [
        "# Create a NumPy array of integers and find the index of a specific element.\n",
        "\n",
        "def soln66(arr, element):\n",
        "    try:\n",
        "        return np.where(arr == element)[0][0]\n",
        "    except IndexError:\n",
        "        return -1\n",
        "\n",
        "arr = np.array([1, 5, 8, 12, 15])\n",
        "print(soln66(arr, 8))  # Output: 2\n",
        "print(soln66(arr, 20))  # Output: -1"
      ]
    },
    {
      "cell_type": "code",
      "execution_count": null,
      "metadata": {
        "colab": {
          "base_uri": "https://localhost:8080/"
        },
        "id": "MvKYoKDccR7v",
        "outputId": "3414a6a6-d4af-4af1-a80f-da64511b1214"
      },
      "outputs": [
        {
          "name": "stdout",
          "output_type": "stream",
          "text": [
            "Original array: [16 66 94 16 70  6 75 36 85 28]\n",
            "Sorted array: [ 6 16 16 28 36 66 70 75 85 94]\n"
          ]
        }
      ],
      "source": [
        "# Generate a random NumPy array and sort it in ascending order.\n",
        "\n",
        "def soln67(arr):\n",
        "    return np.sort(arr)\n",
        "\n",
        "arr = np.random.randint(1, 101, size=10)\n",
        "print(f\"Original array: {arr}\")\n",
        "sorted_arr = soln67(arr)\n",
        "print(f\"Sorted array: {sorted_arr}\")"
      ]
    },
    {
      "cell_type": "code",
      "execution_count": null,
      "metadata": {
        "colab": {
          "base_uri": "https://localhost:8080/"
        },
        "id": "gRMfiaQfcT_2",
        "outputId": "a5d5cab8-6875-4890-934f-0c8315070be7"
      },
      "outputs": [
        {
          "name": "stdout",
          "output_type": "stream",
          "text": [
            "[25 42 30]\n"
          ]
        }
      ],
      "source": [
        "# Filter elements >20  in the given NumPy array.\n",
        "\n",
        "def soln68(arr):\n",
        "\n",
        "    return arr[arr > 20]\n",
        "arr = np.array([12, 25, 6, 42, 8, 30])\n",
        "filtered_arr = soln68(arr)\n",
        "print(filtered_arr)"
      ]
    },
    {
      "cell_type": "code",
      "execution_count": null,
      "metadata": {
        "colab": {
          "base_uri": "https://localhost:8080/"
        },
        "id": "DTtijitHcXF2",
        "outputId": "349b6ba9-5f73-4e9e-915e-278d34bc2d69"
      },
      "outputs": [
        {
          "name": "stdout",
          "output_type": "stream",
          "text": [
            "[12 15]\n"
          ]
        }
      ],
      "source": [
        "# Filter elements which are divisible by 3 from a given NumPy array.\n",
        "\n",
        "def soln69(arr):\n",
        "    return arr[arr % 3 == 0]\n",
        "\n",
        "arr = np.array([1, 5, 8, 12, 15])\n",
        "filtered_arr = soln69(arr)\n",
        "print(filtered_arr)"
      ]
    },
    {
      "cell_type": "code",
      "execution_count": null,
      "metadata": {
        "colab": {
          "base_uri": "https://localhost:8080/"
        },
        "id": "skqgui-KcYv4",
        "outputId": "ff079998-4fe2-45c4-b805-b070da2d7ef3"
      },
      "outputs": [
        {
          "name": "stdout",
          "output_type": "stream",
          "text": [
            "[20 30 40]\n"
          ]
        }
      ],
      "source": [
        "# Filter elements which are ≥ 20 and ≤ 40 from a given NumPy array\n",
        "\n",
        "def soln70(arr):\n",
        "    return arr[(arr >= 20) & (arr <= 40)]\n",
        "\n",
        "arr = np.array([10, 20, 30, 40, 50])\n",
        "filtered_arr = soln70(arr)\n",
        "print(filtered_arr)"
      ]
    },
    {
      "cell_type": "code",
      "execution_count": null,
      "metadata": {
        "colab": {
          "base_uri": "https://localhost:8080/"
        },
        "id": "vaFX4DUUcamR",
        "outputId": "84b7a777-7cef-42c1-af2e-40d49bc0f24e"
      },
      "outputs": [
        {
          "name": "stdout",
          "output_type": "stream",
          "text": [
            "Byte order: =\n"
          ]
        }
      ],
      "source": [
        "# For the given NumPy array, check its byte order using the `dtype` attribute byteorder.\n",
        "\n",
        "def soln71(arr):\n",
        "    return arr.dtype.byteorder\n",
        "\n",
        "arr = np.array([1, 2, 3])\n",
        "byte_order = soln71(arr)\n",
        "print(f\"Byte order: {byte_order}\")"
      ]
    },
    {
      "cell_type": "code",
      "execution_count": null,
      "metadata": {
        "colab": {
          "base_uri": "https://localhost:8080/"
        },
        "id": "s-T_-7U-ccf_",
        "outputId": "00d0cd2b-dc1c-4df0-8c47-4c15b4d30eee"
      },
      "outputs": [
        {
          "name": "stdout",
          "output_type": "stream",
          "text": [
            "Original array: [1 2 3]\n",
            "Byte-swapped array: [16777216 33554432 50331648]\n"
          ]
        }
      ],
      "source": [
        "# For the given NumPy array, perform byte swapping in place using `byteswap()`.\n",
        "\n",
        "def soln72():\n",
        "\n",
        "    arr = np.array([1, 2, 3], dtype=np.int32)\n",
        "    print(\"Original array:\", arr)\n",
        "    arr.byteswap(inplace=True)\n",
        "    print(\"Byte-swapped array:\", arr)\n",
        "\n",
        "soln72()\n",
        "\n"
      ]
    },
    {
      "cell_type": "code",
      "execution_count": null,
      "metadata": {
        "colab": {
          "base_uri": "https://localhost:8080/"
        },
        "id": "V7KOOfmAdC4b",
        "outputId": "48f258ae-1112-4273-9c3b-05b018dc4f5e"
      },
      "outputs": [
        {
          "name": "stdout",
          "output_type": "stream",
          "text": [
            "Original array: [1 2 3]\n",
            "Original array after newbyteorder(): [1 2 3]\n",
            "Swapped byte order array: [16777216 33554432 50331648]\n"
          ]
        }
      ],
      "source": [
        "# For the given NumPy array, swap its byte order without modifying the original array using `newbyteorder()`.\n",
        "def soln73():\n",
        "\n",
        "    arr = np.array([1, 2, 3], dtype=np.int32)\n",
        "    print(\"Original array:\", arr)\n",
        "    swapped_arr = arr.newbyteorder()\n",
        "    print(\"Original array after newbyteorder():\", arr)\n",
        "    print(\"Swapped byte order array:\", swapped_arr)\n",
        "\n",
        "soln73()"
      ]
    },
    {
      "cell_type": "code",
      "execution_count": null,
      "metadata": {
        "colab": {
          "base_uri": "https://localhost:8080/"
        },
        "id": "k-bu_PNNdFhn",
        "outputId": "eaeae330-709d-46db-f853-2e35fe41bd64"
      },
      "outputs": [
        {
          "name": "stdout",
          "output_type": "stream",
          "text": [
            "Original array: [1 2 3]\n",
            "Swapped byte order array based on system endianness: [16777216 33554432 50331648]\n"
          ]
        }
      ],
      "source": [
        "#  For the given NumPy array and swap its byte order conditionally based on system endianness using`newbyteorder()`.\n",
        "def soln74():\n",
        "    arr = np.array([1, 2, 3], dtype=np.int32)\n",
        "    print(\"Original array:\", arr)\n",
        "    if np.little_endian:\n",
        "        swapped_arr = arr.newbyteorder('>')\n",
        "    else:\n",
        "        swapped_arr = arr.newbyteorder('<')\n",
        "    print(\"Swapped byte order array based on system endianness:\", swapped_arr)\n",
        "\n",
        "soln74()"
      ]
    },
    {
      "cell_type": "code",
      "execution_count": null,
      "metadata": {
        "colab": {
          "base_uri": "https://localhost:8080/"
        },
        "id": "Ceo4ArA5dHPa",
        "outputId": "0e2e3f9d-868c-442d-d60b-ee73999d9f01"
      },
      "outputs": [
        {
          "name": "stdout",
          "output_type": "stream",
          "text": [
            "Original array: [1 2 3]\n",
            "Byte swapping is not necessary for the current system.\n"
          ]
        }
      ],
      "source": [
        "#  For the given NumPy array, check if byte swapping is necessary for the current system using `dtype`attribute `byteorder`.\n",
        "def soln75():\n",
        "    arr = np.array([1, 2, 3], dtype=np.int32)\n",
        "    print(\"Original array:\", arr)\n",
        "    if arr.dtype.byteorder == '=':\n",
        "        print(\"Byte swapping is not necessary for the current system.\")\n",
        "    else:\n",
        "        print(\"Byte swapping is necessary for the current system.\")\n",
        "\n",
        "soln75()"
      ]
    },
    {
      "cell_type": "code",
      "execution_count": null,
      "metadata": {
        "colab": {
          "base_uri": "https://localhost:8080/"
        },
        "id": "4O7c1k-HdJsL",
        "outputId": "a0920a3a-71dd-4ed8-93b8-cba06fcf7eb6"
      },
      "outputs": [
        {
          "name": "stdout",
          "output_type": "stream",
          "text": [
            "Original arr1: [ 1  2  3  4  5  6  7  8  9 10]\n",
            "Modified copy_arr: [99  2  3  4  5  6  7  8  9 10]\n",
            "arr1 after modifying copy_arr: [ 1  2  3  4  5  6  7  8  9 10]\n"
          ]
        }
      ],
      "source": [
        "#  Create a NumPy array `arr1` with values from 1 to 10. Create a copy of `arr1` named `copy_arr` and modify an element in `copy_arr`. Check if modifying `copy_arr` affects `arr1`.\n",
        "def soln76():\n",
        "\n",
        "    arr1 = np.arange(1, 11)\n",
        "    copy_arr = arr1.copy()\n",
        "    print(\"Original arr1:\", arr1)\n",
        "    copy_arr[0] = 99\n",
        "    print(\"Modified copy_arr:\", copy_arr)\n",
        "    print(\"arr1 after modifying copy_arr:\", arr1)\n",
        "\n",
        "soln76()"
      ]
    },
    {
      "cell_type": "code",
      "execution_count": null,
      "metadata": {
        "colab": {
          "base_uri": "https://localhost:8080/"
        },
        "id": "fI3yvUVYdLYB",
        "outputId": "b39a6106-d819-480d-c35c-f22d09d2e0d7"
      },
      "outputs": [
        {
          "name": "stdout",
          "output_type": "stream",
          "text": [
            "Original matrix:\n",
            " [[3 6 1]\n",
            " [5 5 3]\n",
            " [7 2 7]]\n",
            "View slice before modification:\n",
            " [[5 3]\n",
            " [2 7]]\n",
            "Modified view slice:\n",
            " [[99  3]\n",
            " [ 2  7]]\n",
            "Original matrix after modifying view slice:\n",
            " [[ 3  6  1]\n",
            " [ 5 99  3]\n",
            " [ 7  2  7]]\n"
          ]
        }
      ],
      "source": [
        "# Create a 2D NumPy array `matrix` of shape (3, 3) with random integers. Extract a slice `view_slice` from the matrix. Modify an element in `view_slice` and observe if it changes the original `matrix`.\n",
        "\n",
        "def soln77():\n",
        "\n",
        "    matrix = np.random.randint(1, 10, size=(3, 3))\n",
        "    print(\"Original matrix:\\n\", matrix)\n",
        "    view_slice = matrix[1:3, 1:3]\n",
        "    print(\"View slice before modification:\\n\", view_slice)\n",
        "    view_slice[0, 0] = 99\n",
        "    print(\"Modified view slice:\\n\", view_slice)\n",
        "    print(\"Original matrix after modifying view slice:\\n\", matrix)\n",
        "\n",
        "soln77()"
      ]
    },
    {
      "cell_type": "code",
      "execution_count": null,
      "metadata": {
        "colab": {
          "base_uri": "https://localhost:8080/"
        },
        "id": "0V5u4VdIdNZk",
        "outputId": "e113fb37-9df7-4984-baf0-d029b08ceb4f"
      },
      "outputs": [
        {
          "name": "stdout",
          "output_type": "stream",
          "text": [
            "Original array_a:\n",
            " [[ 1  2  3]\n",
            " [ 4  5  6]\n",
            " [ 7  8  9]\n",
            " [10 11 12]]\n",
            "view_b after broadcasting addition:\n",
            " [[10 11]\n",
            " [13 14]]\n",
            "Original array_a after modifying view_b:\n",
            " [[ 1  2  3]\n",
            " [ 4 10 11]\n",
            " [ 7 13 14]\n",
            " [10 11 12]]\n"
          ]
        }
      ],
      "source": [
        "# Create a NumPy array `array_a` of shape (4, 3) with sequential integers from 1 to 12. Extract a slice `view_b` from `array_a` and broadcast the addition of 5 to view_b. Check if it alters the original `array_a`.\n",
        "\n",
        "def soln78():\n",
        "\n",
        "    array_a = np.arange(1, 13).reshape(4, 3)\n",
        "    print(\"Original array_a:\\n\", array_a)\n",
        "    view_b = array_a[1:3, 1:3]\n",
        "    view_b += 5\n",
        "    print(\"view_b after broadcasting addition:\\n\", view_b)\n",
        "    print(\"Original array_a after modifying view_b:\\n\", array_a)\n",
        "\n",
        "soln78()"
      ]
    },
    {
      "cell_type": "code",
      "execution_count": null,
      "metadata": {
        "colab": {
          "base_uri": "https://localhost:8080/"
        },
        "id": "Ozk7N28zdPIT",
        "outputId": "5bb300a4-9f58-4134-e9f4-6d0227465922"
      },
      "outputs": [
        {
          "name": "stdout",
          "output_type": "stream",
          "text": [
            "Original orig_array:\n",
            " [[1 2 3 4]\n",
            " [5 6 7 8]]\n",
            "Modified reshaped_view:\n",
            " [[99  2]\n",
            " [ 3  4]\n",
            " [ 5  6]\n",
            " [ 7  8]]\n",
            "Original orig_array after modifying reshaped_view:\n",
            " [[99  2  3  4]\n",
            " [ 5  6  7  8]]\n"
          ]
        }
      ],
      "source": [
        "# Create a NumPy array `orig_array` of shape (2, 4) with values from 1 to 8. Create a reshaped view `reshaped_view` of shape (4, 2) from orig_array. Modify an element in `reshaped_view` and check if it reflects changes in the original `orig_array`.\n",
        "\n",
        "def soln79():\n",
        "    \"\"\"\n",
        "    Create a NumPy array `orig_array` of shape (2, 4) and create a reshaped view.\n",
        "    \"\"\"\n",
        "    orig_array = np.arange(1, 9).reshape(2, 4)\n",
        "    print(\"Original orig_array:\\n\", orig_array)\n",
        "    reshaped_view = orig_array.reshape(4, 2)\n",
        "    reshaped_view[0, 0] = 99\n",
        "    print(\"Modified reshaped_view:\\n\", reshaped_view)\n",
        "    print(\"Original orig_array after modifying reshaped_view:\\n\", orig_array)\n",
        "\n",
        "soln79()"
      ]
    },
    {
      "cell_type": "code",
      "execution_count": null,
      "metadata": {
        "colab": {
          "base_uri": "https://localhost:8080/"
        },
        "id": "waswIsBDdR_R",
        "outputId": "205dddf5-c679-4a0b-cf8a-d2ecdd14f90d"
      },
      "outputs": [
        {
          "name": "stdout",
          "output_type": "stream",
          "text": [
            "Original data:\n",
            " [[3 1 3 3]\n",
            " [1 8 3 3]\n",
            " [6 6 6 8]]\n",
            "data_copy (elements > 5):\n",
            " [8 6 6 6 8]\n",
            "Modified data_copy:\n",
            " [99  6  6  6  8]\n",
            "Original data after modifying data_copy:\n",
            " [[3 1 3 3]\n",
            " [1 8 3 3]\n",
            " [6 6 6 8]]\n"
          ]
        }
      ],
      "source": [
        "# Create a NumPy array `data` of shape (3, 4) with random integers. Extract a copy `data_copy` of elements greater than 5. Modify an element in `data_copy` and verify if it affects the original `data`.\n",
        "\n",
        "def soln80():\n",
        "\n",
        "    data = np.random.randint(1, 10, size=(3, 4))\n",
        "    print(\"Original data:\\n\", data)\n",
        "    data_copy = data[data > 5].copy()\n",
        "    print(\"data_copy (elements > 5):\\n\", data_copy)\n",
        "    if data_copy.size > 0:\n",
        "        data_copy[0] = 99\n",
        "    print(\"Modified data_copy:\\n\", data_copy)\n",
        "    print(\"Original data after modifying data_copy:\\n\", data)\n",
        "\n",
        "soln80()"
      ]
    },
    {
      "cell_type": "code",
      "execution_count": null,
      "metadata": {
        "colab": {
          "base_uri": "https://localhost:8080/"
        },
        "id": "1mX4cHrzdZBL",
        "outputId": "131c0359-5d0f-4a69-9e20-68ba68be14d6"
      },
      "outputs": [
        {
          "name": "stdout",
          "output_type": "stream",
          "text": [
            "Matrix A:\n",
            " [[1 2 3]\n",
            " [4 5 6]]\n",
            "Matrix B:\n",
            " [[ 7  8  9]\n",
            " [10 11 12]]\n",
            "Addition result:\n",
            " [[ 8 10 12]\n",
            " [14 16 18]]\n",
            "Subtraction result:\n",
            " [[-6 -6 -6]\n",
            " [-6 -6 -6]]\n"
          ]
        }
      ],
      "source": [
        "# Create two matrices A and B of identical shape containing integers and perform addition and subtraction operations between them.\n",
        "\n",
        "def soln81():\n",
        "\n",
        "    A = np.array([[1, 2, 3], [4, 5, 6]])\n",
        "    B = np.array([[7, 8, 9], [10, 11, 12]])\n",
        "    print(\"Matrix A:\\n\", A)\n",
        "    print(\"Matrix B:\\n\", B)\n",
        "    addition_result = A + B\n",
        "    subtraction_result = A - B\n",
        "    print(\"Addition result:\\n\", addition_result)\n",
        "    print(\"Subtraction result:\\n\", subtraction_result)\n",
        "\n",
        "soln81()"
      ]
    },
    {
      "cell_type": "code",
      "execution_count": null,
      "metadata": {
        "colab": {
          "base_uri": "https://localhost:8080/"
        },
        "id": "qLweWuPudbtu",
        "outputId": "419710af-e223-4e62-8a72-7187acfe3e11"
      },
      "outputs": [
        {
          "name": "stdout",
          "output_type": "stream",
          "text": [
            "Matrix C:\n",
            " [[8 9]\n",
            " [8 4]\n",
            " [5 1]]\n",
            "Matrix D:\n",
            " [[6 7 5 4]\n",
            " [3 9 4 4]]\n",
            "Matrix multiplication result (C * D):\n",
            " [[ 75 137  76  68]\n",
            " [ 60  92  56  48]\n",
            " [ 33  44  29  24]]\n"
          ]
        }
      ],
      "source": [
        "# Generate two matrices `C` (3x2) and `D` (2x4) and perform matrix multiplication.\n",
        "\n",
        "def soln82():\n",
        "\n",
        "    C = np.random.randint(1, 10, size=(3, 2))\n",
        "    D = np.random.randint(1, 10, size=(2, 4))\n",
        "    print(\"Matrix C:\\n\", C)\n",
        "    print(\"Matrix D:\\n\", D)\n",
        "    multiplication_result = np.dot(C, D)\n",
        "    print(\"Matrix multiplication result (C * D):\\n\", multiplication_result)\n",
        "\n",
        "soln82()"
      ]
    },
    {
      "cell_type": "code",
      "execution_count": null,
      "metadata": {
        "colab": {
          "base_uri": "https://localhost:8080/"
        },
        "id": "MuFlx6LFdd_v",
        "outputId": "cdaaf0a1-dcb0-4ed7-fcfc-1b90fe854bba"
      },
      "outputs": [
        {
          "name": "stdout",
          "output_type": "stream",
          "text": [
            "Original matrix E:\n",
            " [[5 2 1 1]\n",
            " [4 2 5 8]\n",
            " [6 4 8 7]]\n",
            "Transposed matrix E:\n",
            " [[5 4 6]\n",
            " [2 2 4]\n",
            " [1 5 8]\n",
            " [1 8 7]]\n"
          ]
        }
      ],
      "source": [
        "#  Create a matrix `E` and find its transpose.\n",
        "\n",
        "def soln83():\n",
        "\n",
        "    E = np.random.randint(1, 10, size=(3, 4))\n",
        "    print(\"Original matrix E:\\n\", E)\n",
        "    transpose_E = E.T\n",
        "    print(\"Transposed matrix E:\\n\", transpose_E)\n",
        "\n",
        "soln83()"
      ]
    },
    {
      "cell_type": "code",
      "execution_count": null,
      "metadata": {
        "colab": {
          "base_uri": "https://localhost:8080/"
        },
        "id": "IfKr4KDDdf9f",
        "outputId": "c947f886-29ed-4dd0-9129-ca7f501c3ef4"
      },
      "outputs": [
        {
          "name": "stdout",
          "output_type": "stream",
          "text": [
            "Matrix F:\n",
            " [[2 2 4]\n",
            " [7 6 1]\n",
            " [6 1 1]]\n",
            "Determinant of matrix F: -107.99999999999993\n"
          ]
        }
      ],
      "source": [
        "#  Generate a square matrix `F` and compute its determinant.\n",
        "\n",
        "def soln84():\n",
        "\n",
        "    F = np.random.randint(1, 10, size=(3, 3))\n",
        "    print(\"Matrix F:\\n\", F)\n",
        "    determinant_F = np.linalg.det(F)\n",
        "    print(\"Determinant of matrix F:\", determinant_F)\n",
        "\n",
        "soln84()"
      ]
    },
    {
      "cell_type": "code",
      "execution_count": null,
      "metadata": {
        "colab": {
          "base_uri": "https://localhost:8080/"
        },
        "id": "AjxPnWPqdlFA",
        "outputId": "5af89e5c-dbda-4ca7-efe5-77146cb3cd1d"
      },
      "outputs": [
        {
          "name": "stdout",
          "output_type": "stream",
          "text": [
            "Matrix G:\n",
            " [[2 7 9]\n",
            " [9 9 2]\n",
            " [9 6 1]]\n",
            "Inverse of matrix G:\n",
            " [[ 0.01612903 -0.25268817  0.36021505]\n",
            " [-0.0483871   0.42473118 -0.41397849]\n",
            " [ 0.14516129 -0.27419355  0.24193548]]\n"
          ]
        }
      ],
      "source": [
        "# Create a square matrix `G` and find its inverse.\n",
        "\n",
        "def soln85():\n",
        "\n",
        "    G = np.random.randint(1, 10, size=(3, 3))\n",
        "    print(\"Matrix G:\\n\", G)\n",
        "    try:\n",
        "        inverse_G = np.linalg.inv(G)\n",
        "        print(\"Inverse of matrix G:\\n\", inverse_G)\n",
        "    except np.linalg.LinAlgError:\n",
        "        print(\"Matrix G is singular and cannot be inverted.\")\n",
        "\n",
        "soln85()"
      ]
    },
    {
      "cell_type": "code",
      "execution_count": null,
      "metadata": {
        "id": "KnKcB9zydmxe"
      },
      "outputs": [],
      "source": []
    }
  ],
  "metadata": {
    "colab": {
      "provenance": []
    },
    "kernelspec": {
      "display_name": "Python 3",
      "name": "python3"
    },
    "language_info": {
      "name": "python"
    }
  },
  "nbformat": 4,
  "nbformat_minor": 0
}